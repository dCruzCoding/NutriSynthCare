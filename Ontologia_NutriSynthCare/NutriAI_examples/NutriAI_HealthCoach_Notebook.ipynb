{
 "cells": [
  {
   "cell_type": "markdown",
   "metadata": {},
   "source": [
    "# NutriAI Health Coach\n",
    "Recomendaciones nutricionales personalizadas basadas en datos clínicos y una ontología sencilla."
   ]
  },
  {
   "cell_type": "code",
   "execution_count": 3,
   "metadata": {},
   "outputs": [],
   "source": [
    "from rdflib import Graph, Namespace, RDF\n",
    "import pandas as pd\n",
    "\n",
    "# Crear grafo y namespaces\n",
    "g = Graph()\n",
    "FOOD = Namespace(\"http://example.org/food/\")\n",
    "NUT = Namespace(\"http://example.org/nutrient/\")\n",
    "COND = Namespace(\"http://example.org/condition/\")\n",
    "EX = Namespace(\"http://example.org/ex/\")\n",
    "\n",
    "g.bind(\"food\", FOOD)\n",
    "g.bind(\"nut\", NUT)\n",
    "g.bind(\"cond\", COND)\n",
    "g.bind(\"ex\", EX)\n",
    "\n",
    "# Añadir alimentos y nutrientes\n",
    "g.add((FOOD.Tofu, RDF.type, FOOD.PlantBasedProtein))\n",
    "g.add((FOOD.Tofu, NUT.hasNutrient, NUT.Calcium))\n",
    "g.add((FOOD.Tofu, NUT.hasNutrient, NUT.Protein))\n",
    "\n",
    "g.add((FOOD.Broccoli, RDF.type, FOOD.Vegetable))\n",
    "g.add((FOOD.Broccoli, NUT.hasNutrient, NUT.Fiber))\n",
    "g.add((FOOD.Broccoli, NUT.hasNutrient, NUT.Calcium))\n",
    "\n",
    "g.add((FOOD.Sardines, RDF.type, FOOD.Fish))\n",
    "g.add((FOOD.Sardines, NUT.hasNutrient, NUT.Calcium))\n",
    "g.add((FOOD.Sardines, NUT.hasNutrient, NUT.Protein))\n",
    "\n",
    "g.add((FOOD.Lentils, RDF.type, FOOD.Legume))\n",
    "g.add((FOOD.Lentils, NUT.hasNutrient, NUT.Fiber))\n",
    "g.add((FOOD.Lentils, NUT.hasNutrient, NUT.Protein))\n",
    "\n",
    "g.add((FOOD.Oats, RDF.type, FOOD.Grain))\n",
    "g.add((FOOD.Oats, NUT.hasNutrient, NUT.Fiber))\n",
    "\n",
    "g.add((FOOD.Spinach, RDF.type, FOOD.Vegetable))\n",
    "g.add((FOOD.Spinach, NUT.hasNutrient, NUT.Calcium))\n",
    "g.add((FOOD.Spinach, NUT.hasNutrient, NUT.Iron))\n",
    "\n",
    "g.add((FOOD.Milk, RDF.type, FOOD.Dairy))\n",
    "g.add((FOOD.Milk, NUT.hasNutrient, NUT.Calcium))\n",
    "g.add((FOOD.Milk, NUT.hasNutrient, NUT.VitaminD))\n",
    "\n",
    "# Beneficios\n",
    "beneficios = [\n",
    "    (NUT.Calcium, COND.Hypertension),\n",
    "    (NUT.Calcium, COND.Osteoporosis),\n",
    "    (NUT.Fiber, COND.Diabetes),\n",
    "    (NUT.Protein, COND.MuscleLoss),\n",
    "    (NUT.Iron, COND.Anemia),\n",
    "    (NUT.VitaminD, COND.Osteoporosis)\n",
    "]\n",
    "for nutriente, condicion in beneficios:\n",
    "    g.add((nutriente, EX.beneficialFor, condicion))"
   ]
  },
  {
   "cell_type": "code",
   "execution_count": 4,
   "metadata": {},
   "outputs": [],
   "source": [
    "# Función de inferencia\n",
    "def inferir_alimentos_para_condicion(condicion_uri):\n",
    "    nutrientes_beneficiosos = set()\n",
    "    for s, p, o in g.triples((None, EX.beneficialFor, condicion_uri)):\n",
    "        nutrientes_beneficiosos.add(s)\n",
    "\n",
    "    alimentos = []\n",
    "    for alimento, _, nutriente in g.triples((None, NUT.hasNutrient, None)):\n",
    "        if nutriente in nutrientes_beneficiosos:\n",
    "            alimentos.append(str(alimento).split(\"/\")[-1])\n",
    "    return sorted(set(alimentos))"
   ]
  },
  {
   "cell_type": "code",
   "execution_count": 6,
   "metadata": {},
   "outputs": [
    {
     "data": {
      "text/html": [
       "<div>\n",
       "<style scoped>\n",
       "    .dataframe tbody tr th:only-of-type {\n",
       "        vertical-align: middle;\n",
       "    }\n",
       "\n",
       "    .dataframe tbody tr th {\n",
       "        vertical-align: top;\n",
       "    }\n",
       "\n",
       "    .dataframe thead th {\n",
       "        text-align: right;\n",
       "    }\n",
       "</style>\n",
       "<table border=\"1\" class=\"dataframe\">\n",
       "  <thead>\n",
       "    <tr style=\"text-align: right;\">\n",
       "      <th></th>\n",
       "      <th>Alimentos recomendados para hipertensión</th>\n",
       "    </tr>\n",
       "  </thead>\n",
       "  <tbody>\n",
       "    <tr>\n",
       "      <th>0</th>\n",
       "      <td>Broccoli</td>\n",
       "    </tr>\n",
       "    <tr>\n",
       "      <th>1</th>\n",
       "      <td>Milk</td>\n",
       "    </tr>\n",
       "    <tr>\n",
       "      <th>2</th>\n",
       "      <td>Sardines</td>\n",
       "    </tr>\n",
       "    <tr>\n",
       "      <th>3</th>\n",
       "      <td>Spinach</td>\n",
       "    </tr>\n",
       "    <tr>\n",
       "      <th>4</th>\n",
       "      <td>Tofu</td>\n",
       "    </tr>\n",
       "  </tbody>\n",
       "</table>\n",
       "</div>"
      ],
      "text/plain": [
       "  Alimentos recomendados para hipertensión\n",
       "0                                 Broccoli\n",
       "1                                     Milk\n",
       "2                                 Sardines\n",
       "3                                  Spinach\n",
       "4                                     Tofu"
      ]
     },
     "execution_count": 6,
     "metadata": {},
     "output_type": "execute_result"
    }
   ],
   "source": [
    "# Simulación de paciente y resultados\n",
    "df_hipertension = pd.DataFrame(inferir_alimentos_para_condicion(COND.Hypertension), columns=[\"Alimentos recomendados para hipertensión\"])\n",
    "df_hipertension"
   ]
  },
  {
   "cell_type": "code",
   "execution_count": 7,
   "metadata": {},
   "outputs": [
    {
     "data": {
      "text/plain": [
       "<bound method DataFrame.info of   Alimentos recomendados para hipertensión\n",
       "0                                 Broccoli\n",
       "1                                     Milk\n",
       "2                                 Sardines\n",
       "3                                  Spinach\n",
       "4                                     Tofu>"
      ]
     },
     "execution_count": 7,
     "metadata": {},
     "output_type": "execute_result"
    }
   ],
   "source": [
    "df_hipertension.info"
   ]
  },
  {
   "cell_type": "code",
   "execution_count": null,
   "metadata": {},
   "outputs": [],
   "source": []
  }
 ],
 "metadata": {
  "kernelspec": {
   "display_name": "Python 3 (ipykernel)",
   "language": "python",
   "name": "python3"
  },
  "language_info": {
   "codemirror_mode": {
    "name": "ipython",
    "version": 3
   },
   "file_extension": ".py",
   "mimetype": "text/x-python",
   "name": "python",
   "nbconvert_exporter": "python",
   "pygments_lexer": "ipython3",
   "version": "3.10.16"
  }
 },
 "nbformat": 4,
 "nbformat_minor": 4
}
